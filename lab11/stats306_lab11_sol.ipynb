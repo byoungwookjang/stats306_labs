{
 "cells": [
  {
   "cell_type": "markdown",
   "metadata": {},
   "source": [
    "# Lab 11: Misc Functions"
   ]
  },
  {
   "cell_type": "code",
   "execution_count": 2,
   "metadata": {
    "scrolled": true
   },
   "outputs": [
    {
     "name": "stderr",
     "output_type": "stream",
     "text": [
      "Loading tidyverse: ggplot2\n",
      "Loading tidyverse: tibble\n",
      "Loading tidyverse: tidyr\n",
      "Loading tidyverse: readr\n",
      "Loading tidyverse: purrr\n",
      "Loading tidyverse: dplyr\n",
      "Conflicts with tidy packages ---------------------------------------------------\n",
      "filter(): dplyr, stats\n",
      "lag():    dplyr, stats\n"
     ]
    }
   ],
   "source": [
    "library(tidyverse)\n",
    "library(nycflights13)"
   ]
  },
  {
   "cell_type": "markdown",
   "metadata": {},
   "source": [
    "## Review"
   ]
  },
  {
   "cell_type": "markdown",
   "metadata": {},
   "source": [
    "Remember that **lists** are sequences where the elements are allowed to be different data types (including vectors or even other lists). You will usually want to name your list elements."
   ]
  },
  {
   "cell_type": "code",
   "execution_count": 3,
   "metadata": {},
   "outputs": [
    {
     "name": "stdout",
     "output_type": "stream",
     "text": [
      "[1] \"a\" \"b\" \"c\" \"d\" \"e\"\n",
      "$a\n",
      "[1] \"a\"\n",
      "\n",
      "$b\n",
      "[1] FALSE\n",
      "\n",
      "$c\n",
      "[1] 1 2 3\n",
      "\n",
      "$d\n",
      "$d$first\n",
      "[1] 1 3 5\n",
      "\n",
      "$d$second\n",
      "[1] \"a\" \"b\" \"c\"\n",
      "\n",
      "\n",
      "$e\n",
      "[1] 3.141593\n",
      "\n"
     ]
    }
   ],
   "source": [
    "x = list(a='a', b=FALSE, c=1:3, d=list(first=c(1, 3, 5), second=c('a', 'b', 'c')), e=pi)\n",
    "print(names(x))\n",
    "print(x)"
   ]
  },
  {
   "cell_type": "markdown",
   "metadata": {},
   "source": [
    "There are three ways to subset or extract elements from a list:\n",
    "* `[...]` will extract a sublist. Note that the result of this will always be another list. Integer, logical, or character vectors can be used.\n",
    "* `[[...]]` will extract a single element. Either the index or name of the desired element can be provided.\n",
    "* `$a` will also extract a single element. Note that this requires a named list, and the name must be used. "
   ]
  },
  {
   "cell_type": "markdown",
   "metadata": {},
   "source": [
    "### Functional Programming\n",
    "\n",
    "Tidyverse contains a suite of functions used for functional programming in `purrr` ([documentation](https://purrr.tidyverse.org/index.html)).\n",
    "\n",
    "Functional programming is generally built on three main operations:\n",
    "* `map`\n",
    "* `keep` (usually known as `filter` in other languages)\n",
    "* `reduce`\n",
    "\n",
    "Note that `map` always returns a list, if you want a vector, then use the functions `map_lgl`, `map_int`, `map_dbl`, or `map_chr` for logicals, integers, doubles/floats, and strings, respectively."
   ]
  },
  {
   "cell_type": "code",
   "execution_count": 4,
   "metadata": {
    "scrolled": true
   },
   "outputs": [
    {
     "name": "stdout",
     "output_type": "stream",
     "text": [
      "[[1]]\n",
      "[1] 1\n",
      "\n",
      "[[2]]\n",
      "[1] 4\n",
      "\n",
      "[[3]]\n",
      "[1] 9\n",
      "\n",
      "[[4]]\n",
      "[1] 16\n",
      "\n",
      "[[5]]\n",
      "[1] 25\n",
      "\n"
     ]
    }
   ],
   "source": [
    "map(1:5, function(x) x^2) %>% print"
   ]
  },
  {
   "cell_type": "code",
   "execution_count": 5,
   "metadata": {},
   "outputs": [
    {
     "data": {
      "text/html": [
       "<ol class=list-inline>\n",
       "\t<li>1</li>\n",
       "\t<li>4</li>\n",
       "\t<li>9</li>\n",
       "\t<li>16</li>\n",
       "\t<li>25</li>\n",
       "</ol>\n"
      ],
      "text/latex": [
       "\\begin{enumerate*}\n",
       "\\item 1\n",
       "\\item 4\n",
       "\\item 9\n",
       "\\item 16\n",
       "\\item 25\n",
       "\\end{enumerate*}\n"
      ],
      "text/markdown": [
       "1. 1\n",
       "2. 4\n",
       "3. 9\n",
       "4. 16\n",
       "5. 25\n",
       "\n",
       "\n"
      ],
      "text/plain": [
       "[1]  1  4  9 16 25"
      ]
     },
     "metadata": {},
     "output_type": "display_data"
    }
   ],
   "source": [
    "map_dbl(1:5, function(x) x^2)"
   ]
  },
  {
   "cell_type": "code",
   "execution_count": 6,
   "metadata": {},
   "outputs": [
    {
     "data": {
      "text/html": [
       "<ol class=list-inline>\n",
       "\t<li>2</li>\n",
       "\t<li>4</li>\n",
       "</ol>\n"
      ],
      "text/latex": [
       "\\begin{enumerate*}\n",
       "\\item 2\n",
       "\\item 4\n",
       "\\end{enumerate*}\n"
      ],
      "text/markdown": [
       "1. 2\n",
       "2. 4\n",
       "\n",
       "\n"
      ],
      "text/plain": [
       "[1] 2 4"
      ]
     },
     "metadata": {},
     "output_type": "display_data"
    }
   ],
   "source": [
    "keep(1:5, function(x) x %% 2 == 0)"
   ]
  },
  {
   "cell_type": "code",
   "execution_count": 7,
   "metadata": {},
   "outputs": [
    {
     "data": {
      "text/html": [
       "15"
      ],
      "text/latex": [
       "15"
      ],
      "text/markdown": [
       "15"
      ],
      "text/plain": [
       "[1] 15"
      ]
     },
     "metadata": {},
     "output_type": "display_data"
    }
   ],
   "source": [
    "reduce(1:5, function(x, y) x + y)"
   ]
  },
  {
   "cell_type": "code",
   "execution_count": 8,
   "metadata": {},
   "outputs": [
    {
     "data": {
      "text/html": [
       "<ol class=list-inline>\n",
       "\t<li>1</li>\n",
       "\t<li>3</li>\n",
       "\t<li>6</li>\n",
       "\t<li>10</li>\n",
       "\t<li>15</li>\n",
       "</ol>\n"
      ],
      "text/latex": [
       "\\begin{enumerate*}\n",
       "\\item 1\n",
       "\\item 3\n",
       "\\item 6\n",
       "\\item 10\n",
       "\\item 15\n",
       "\\end{enumerate*}\n"
      ],
      "text/markdown": [
       "1. 1\n",
       "2. 3\n",
       "3. 6\n",
       "4. 10\n",
       "5. 15\n",
       "\n",
       "\n"
      ],
      "text/plain": [
       "[1]  1  3  6 10 15"
      ]
     },
     "metadata": {},
     "output_type": "display_data"
    }
   ],
   "source": [
    "accumulate(1:5, function(x, y) x + y)"
   ]
  },
  {
   "cell_type": "code",
   "execution_count": 9,
   "metadata": {},
   "outputs": [
    {
     "data": {
      "text/html": [
       "<ol class=list-inline>\n",
       "\t<li>1</li>\n",
       "\t<li>4</li>\n",
       "\t<li>9</li>\n",
       "\t<li>16</li>\n",
       "\t<li>25</li>\n",
       "</ol>\n"
      ],
      "text/latex": [
       "\\begin{enumerate*}\n",
       "\\item 1\n",
       "\\item 4\n",
       "\\item 9\n",
       "\\item 16\n",
       "\\item 25\n",
       "\\end{enumerate*}\n"
      ],
      "text/markdown": [
       "1. 1\n",
       "2. 4\n",
       "3. 9\n",
       "4. 16\n",
       "5. 25\n",
       "\n",
       "\n"
      ],
      "text/plain": [
       "[1]  1  4  9 16 25"
      ]
     },
     "metadata": {},
     "output_type": "display_data"
    },
    {
     "data": {
      "text/html": [
       "<ol class=list-inline>\n",
       "\t<li>2</li>\n",
       "\t<li>4</li>\n",
       "</ol>\n"
      ],
      "text/latex": [
       "\\begin{enumerate*}\n",
       "\\item 2\n",
       "\\item 4\n",
       "\\end{enumerate*}\n"
      ],
      "text/markdown": [
       "1. 2\n",
       "2. 4\n",
       "\n",
       "\n"
      ],
      "text/plain": [
       "[1] 2 4"
      ]
     },
     "metadata": {},
     "output_type": "display_data"
    },
    {
     "data": {
      "text/html": [
       "15"
      ],
      "text/latex": [
       "15"
      ],
      "text/markdown": [
       "15"
      ],
      "text/plain": [
       "[1] 15"
      ]
     },
     "metadata": {},
     "output_type": "display_data"
    }
   ],
   "source": [
    "map_dbl(1:5, ~ .^2)\n",
    "keep(1:5, ~ . %% 2 == 0)\n",
    "reduce(1:5, ~ .x + .y)"
   ]
  },
  {
   "cell_type": "markdown",
   "metadata": {},
   "source": [
    "Map applies to all the function to all the components, and return the appropriate results. "
   ]
  },
  {
   "cell_type": "code",
   "execution_count": 19,
   "metadata": {},
   "outputs": [
    {
     "name": "stderr",
     "output_type": "stream",
     "text": [
      "Warning message in mean.default(.x[[i]], ...):\n",
      "“argument is not numeric or logical: returning NA”"
     ]
    },
    {
     "data": {
      "text/html": [
       "<dl>\n",
       "\t<dt>$a</dt>\n",
       "\t\t<dd>2</dd>\n",
       "\t<dt>$b</dt>\n",
       "\t\t<dd>2</dd>\n",
       "\t<dt>$c</dt>\n",
       "\t\t<dd>2.5</dd>\n",
       "\t<dt>$d</dt>\n",
       "\t\t<dd>&lt;NA&gt;</dd>\n",
       "</dl>\n"
      ],
      "text/latex": [
       "\\begin{description}\n",
       "\\item[\\$a] 2\n",
       "\\item[\\$b] 2\n",
       "\\item[\\$c] 2.5\n",
       "\\item[\\$d] <NA>\n",
       "\\end{description}\n"
      ],
      "text/markdown": [
       "$a\n",
       ":   2\n",
       "$b\n",
       ":   2\n",
       "$c\n",
       ":   2.5\n",
       "$d\n",
       ":   &lt;NA&gt;\n",
       "\n",
       "\n"
      ],
      "text/plain": [
       "$a\n",
       "[1] 2\n",
       "\n",
       "$b\n",
       "[1] 2\n",
       "\n",
       "$c\n",
       "[1] 2.5\n",
       "\n",
       "$d\n",
       "[1] NA\n"
      ]
     },
     "metadata": {},
     "output_type": "display_data"
    }
   ],
   "source": [
    "mixed_list = list(a=2, b=c(1,2,3), c = matrix(c(1,2,3,4), nrow=2), d='a')\n",
    "map(mixed_list, mean)"
   ]
  },
  {
   "cell_type": "code",
   "execution_count": 20,
   "metadata": {},
   "outputs": [
    {
     "name": "stderr",
     "output_type": "stream",
     "text": [
      "Warning message in var(if (is.vector(x) || is.factor(x)) x else as.double(x), na.rm = na.rm):\n",
      "“NAs introduced by coercion”"
     ]
    },
    {
     "data": {
      "text/html": [
       "<dl>\n",
       "\t<dt>$a</dt>\n",
       "\t\t<dd>&lt;NA&gt;</dd>\n",
       "\t<dt>$b</dt>\n",
       "\t\t<dd>1</dd>\n",
       "\t<dt>$c</dt>\n",
       "\t\t<dd>1.29099444873581</dd>\n",
       "\t<dt>$d</dt>\n",
       "\t\t<dd>&lt;NA&gt;</dd>\n",
       "</dl>\n"
      ],
      "text/latex": [
       "\\begin{description}\n",
       "\\item[\\$a] <NA>\n",
       "\\item[\\$b] 1\n",
       "\\item[\\$c] 1.29099444873581\n",
       "\\item[\\$d] <NA>\n",
       "\\end{description}\n"
      ],
      "text/markdown": [
       "$a\n",
       ":   &lt;NA&gt;\n",
       "$b\n",
       ":   1\n",
       "$c\n",
       ":   1.29099444873581\n",
       "$d\n",
       ":   &lt;NA&gt;\n",
       "\n",
       "\n"
      ],
      "text/plain": [
       "$a\n",
       "[1] NA\n",
       "\n",
       "$b\n",
       "[1] 1\n",
       "\n",
       "$c\n",
       "[1] 1.290994\n",
       "\n",
       "$d\n",
       "[1] NA\n"
      ]
     },
     "metadata": {},
     "output_type": "display_data"
    }
   ],
   "source": [
    "map(mixed_list, sd)"
   ]
  },
  {
   "cell_type": "markdown",
   "metadata": {},
   "source": [
    "### If we just want to keep the numeric class components and apply the map function, how do we proceed?"
   ]
  },
  {
   "cell_type": "code",
   "execution_count": 24,
   "metadata": {},
   "outputs": [
    {
     "ename": "ERROR",
     "evalue": "Error in is_logical(.p): argument \".p\" is missing, with no default\n",
     "output_type": "error",
     "traceback": [
      "Error in is_logical(.p): argument \".p\" is missing, with no default\nTraceback:\n",
      "1. keep(mixed_list, )",
      "2. probe(.x, .p, ...)",
      "3. is_logical(.p)"
     ]
    }
   ],
   "source": [
    "mixed_numeric = keep(mixed_list, ) # Can use ~ or function(x) to define your own function here\n",
    "map(mixed_numeric, mean)"
   ]
  },
  {
   "cell_type": "markdown",
   "metadata": {},
   "source": [
    "Remember that dataframes are also lists where each element is a vector (i.e. a column of the data), so when applied to dataframes these will apply to each column of the data."
   ]
  },
  {
   "cell_type": "code",
   "execution_count": 198,
   "metadata": {
    "scrolled": true
   },
   "outputs": [
    {
     "name": "stdout",
     "output_type": "stream",
     "text": [
      "    mpg    disp      hp    qsec \n",
      " 642.90 7383.10 4694.00  571.16 \n"
     ]
    }
   ],
   "source": [
    "mtcars %>% map_dbl(sum) %>% keep(~ . > 200) %>% print"
   ]
  },
  {
   "cell_type": "markdown",
   "metadata": {},
   "source": [
    "## Q0: Warm-up with variance\n",
    "Variance of the vector $x$ is calculated as\n",
    "$$ \\sigma^2 = \\frac{\\sum_{i=1}^n (x_i - \\bar{x})^2}{n-1} = \\frac{\\sum_{i=1}^n x_i^2}{n-1} - \\frac{n}{n-1} \\bar{x}^2\\$$\n",
    "Write a function that calculates the variance using reduce and mean function"
   ]
  },
  {
   "cell_type": "code",
   "execution_count": 65,
   "metadata": {},
   "outputs": [],
   "source": [
    "variance = function(x){\n",
    "    n = length(x)\n",
    "    (reduce(x, function(prev,x) prev+x^2) - n*mean(x)^2)/(n-1)\n",
    "}"
   ]
  },
  {
   "cell_type": "markdown",
   "metadata": {},
   "source": [
    "## Q1: Working with logicals\n",
    "\n",
    "### 1.1\n",
    "\n",
    "Given a logical vector, consider a function that returns `TRUE` if every element is `TRUE`, and returns `FALSE` if any element is `FALSE`. Have this function ignore missing values (don't worry about empty vectors or vectors will all missing values).\n",
    "\n",
    "Write the function `all_iter` which uses iteration/loops to perform this calculation.\n",
    "\n",
    "Write the function `all_func` which uses functional programming tools."
   ]
  },
  {
   "cell_type": "code",
   "execution_count": 28,
   "metadata": {},
   "outputs": [],
   "source": [
    "all_iter = function(x) {\n",
    "    for (val in x) {\n",
    "        if (!is.na(val)) {\n",
    "            if (!val) {\n",
    "                return(FALSE)\n",
    "            }\n",
    "        }\n",
    "    }\n",
    "    return(TRUE)\n",
    "}"
   ]
  },
  {
   "cell_type": "code",
   "execution_count": 1,
   "metadata": {},
   "outputs": [],
   "source": [
    "all_func = function(x) {\n",
    "    # T & F --> F\n",
    "    # F & F --> F\n",
    "    # T & T --> T\n",
    "    x %>% keep(~!is.na(.)) %>% reduce(`&`)\n",
    "}"
   ]
  },
  {
   "cell_type": "code",
   "execution_count": 2,
   "metadata": {},
   "outputs": [
    {
     "ename": "ERROR",
     "evalue": "Error in all_iter(c(TRUE, TRUE, TRUE)): could not find function \"all_iter\"\n",
     "output_type": "error",
     "traceback": [
      "Error in all_iter(c(TRUE, TRUE, TRUE)): could not find function \"all_iter\"\nTraceback:\n",
      "1. stopifnot(all_iter(c(TRUE, TRUE, TRUE)))"
     ]
    }
   ],
   "source": [
    "stopifnot(all_iter(c(TRUE, TRUE, TRUE)))\n",
    "stopifnot(!all_iter(c(TRUE, TRUE, FALSE)))\n",
    "stopifnot(!all_iter(c(FALSE, FALSE, FALSE)))\n",
    "stopifnot(all_iter(c(TRUE, TRUE, NA)))\n",
    "stopifnot(!all_iter(c(TRUE, FALSE, NA)))\n",
    "stopifnot(all_iter(c(NA, TRUE, NA)))\n",
    "\n",
    "stopifnot(all_func(c(TRUE, TRUE, TRUE)))\n",
    "stopifnot(!all_func(c(TRUE, TRUE, FALSE)))\n",
    "stopifnot(!all_func(c(FALSE, FALSE, FALSE)))\n",
    "stopifnot(all_func(c(TRUE, TRUE, NA)))\n",
    "stopifnot(!all_func(c(TRUE, FALSE, NA)))\n",
    "stopifnot(all_func(c(NA, TRUE, NA)))"
   ]
  },
  {
   "cell_type": "markdown",
   "metadata": {},
   "source": [
    "### 1.2\n",
    "\n",
    "Now consider the function that does the opposite, returns `TRUE` if any of the elements are `TRUE`, and returns `FALSE` if all of the elements are `FALSE`.\n",
    "\n",
    "Write a function `any_func` that does this. Hint: this function can be written extremely simply given a correct implementation of `all_func` or `all_iter` if you think carefully about what this is doing."
   ]
  },
  {
   "cell_type": "code",
   "execution_count": 5,
   "metadata": {},
   "outputs": [
    {
     "data": {
      "text/html": [
       "<ol class=list-inline>\n",
       "\t<li>TRUE</li>\n",
       "\t<li>TRUE</li>\n",
       "\t<li>TRUE</li>\n",
       "</ol>\n"
      ],
      "text/latex": [
       "\\begin{enumerate*}\n",
       "\\item TRUE\n",
       "\\item TRUE\n",
       "\\item TRUE\n",
       "\\end{enumerate*}\n"
      ],
      "text/markdown": [
       "1. TRUE\n",
       "2. TRUE\n",
       "3. TRUE\n",
       "\n",
       "\n"
      ],
      "text/plain": [
       "[1] TRUE TRUE TRUE"
      ]
     },
     "metadata": {},
     "output_type": "display_data"
    },
    {
     "data": {
      "text/html": [
       "TRUE"
      ],
      "text/latex": [
       "TRUE"
      ],
      "text/markdown": [
       "TRUE"
      ],
      "text/plain": [
       "[1] TRUE"
      ]
     },
     "metadata": {},
     "output_type": "display_data"
    },
    {
     "data": {
      "text/html": [
       "FALSE"
      ],
      "text/latex": [
       "FALSE"
      ],
      "text/markdown": [
       "FALSE"
      ],
      "text/plain": [
       "[1] FALSE"
      ]
     },
     "metadata": {},
     "output_type": "display_data"
    }
   ],
   "source": [
    "require(tidyverse)\n",
    "any_func = function(x) {\n",
    "    !all_func(!x)\n",
    "}\n",
    "x = c(FALSE, FALSE, FALSE)\n",
    "!x\n",
    "all_func(!x)\n",
    "!all_func(!x)\n"
   ]
  },
  {
   "cell_type": "code",
   "execution_count": 32,
   "metadata": {},
   "outputs": [],
   "source": [
    "stopifnot(any_func(c(TRUE, TRUE, TRUE)))\n",
    "stopifnot(any_func(c(TRUE, TRUE, FALSE)))\n",
    "stopifnot(!any_func(c(FALSE, FALSE, FALSE)))\n",
    "stopifnot(any_func(c(TRUE, TRUE, NA)))\n",
    "stopifnot(any_func(c(TRUE, FALSE, NA)))\n",
    "stopifnot(!any_func(c(FALSE, FALSE, NA)))\n",
    "stopifnot(any_func(c(NA, TRUE, NA)))"
   ]
  },
  {
   "cell_type": "markdown",
   "metadata": {},
   "source": [
    "Note that `any` and `all` are built-in `R` functions that do the same things as the above functions you wrote.\n",
    "\n",
    "### 1.3\n",
    "\n",
    "Write a function `exists_outlier` that takes a vector and checks if an outlier exists. We define an outlier to be a point that is more than 2.5x the standard deviation away from the mean."
   ]
  },
  {
   "cell_type": "code",
   "execution_count": 33,
   "metadata": {},
   "outputs": [],
   "source": [
    "exists_outlier = function(x) {\n",
    "    any(abs(x - mean(x)) > 2.5*sd(x))\n",
    "}"
   ]
  },
  {
   "cell_type": "code",
   "execution_count": 34,
   "metadata": {},
   "outputs": [],
   "source": [
    "stopifnot(!exists_outlier(c(1, 2, 3, 4, 5)))\n",
    "stopifnot(exists_outlier(c(rep(1, 20), 5)))"
   ]
  },
  {
   "cell_type": "markdown",
   "metadata": {},
   "source": [
    "### 1.4\n",
    "\n",
    "The following code creates a dataframe `dat`. Write a one-liner using `exists_outlier` that prints the variable names of `dat` that contain an outlier."
   ]
  },
  {
   "cell_type": "code",
   "execution_count": 35,
   "metadata": {},
   "outputs": [],
   "source": [
    "set.seed(123515)\n",
    "dat = data.frame(X1=rnorm(30))\n",
    "for (varn in 2:20) {\n",
    "    dat[[paste0('X', varn)]] = rnorm(30)\n",
    "}"
   ]
  },
  {
   "cell_type": "code",
   "execution_count": 36,
   "metadata": {},
   "outputs": [
    {
     "name": "stdout",
     "output_type": "stream",
     "text": [
      "[1] \"X1\"  \"X2\"  \"X5\"  \"X14\" \"X17\"\n"
     ]
    }
   ],
   "source": [
    "names(dat)[map_lgl(dat, exists_outlier)] %>% print"
   ]
  },
  {
   "cell_type": "markdown",
   "metadata": {},
   "source": [
    "### 1.5\n",
    "We are going to use the columns of dataframe `dat` that do not have outliers. For each column, calculate the mean of the values above 50th quantile."
   ]
  },
  {
   "cell_type": "code",
   "execution_count": 58,
   "metadata": {},
   "outputs": [],
   "source": [
    "dat5 = dat %>% select(names(dat)[!map_lgl(dat, exists_outlier)])"
   ]
  },
  {
   "cell_type": "code",
   "execution_count": 61,
   "metadata": {},
   "outputs": [
    {
     "data": {
      "text/html": [
       "<ol class=list-inline>\n",
       "\t<li>0.90646974847196</li>\n",
       "\t<li>0.925990652853999</li>\n",
       "\t<li>0.484099537891704</li>\n",
       "\t<li>0.906937557846491</li>\n",
       "\t<li>1.09141461262458</li>\n",
       "\t<li>0.677613158788322</li>\n",
       "\t<li>0.615263057610009</li>\n",
       "\t<li>0.630594077352756</li>\n",
       "\t<li>1.16915085203944</li>\n",
       "\t<li>0.975697072786776</li>\n",
       "\t<li>0.898499321324989</li>\n",
       "\t<li>1.016672752096</li>\n",
       "\t<li>0.985828266698705</li>\n",
       "\t<li>0.91891591331436</li>\n",
       "\t<li>0.527503331000823</li>\n",
       "</ol>\n"
      ],
      "text/latex": [
       "\\begin{enumerate*}\n",
       "\\item 0.90646974847196\n",
       "\\item 0.925990652853999\n",
       "\\item 0.484099537891704\n",
       "\\item 0.906937557846491\n",
       "\\item 1.09141461262458\n",
       "\\item 0.677613158788322\n",
       "\\item 0.615263057610009\n",
       "\\item 0.630594077352756\n",
       "\\item 1.16915085203944\n",
       "\\item 0.975697072786776\n",
       "\\item 0.898499321324989\n",
       "\\item 1.016672752096\n",
       "\\item 0.985828266698705\n",
       "\\item 0.91891591331436\n",
       "\\item 0.527503331000823\n",
       "\\end{enumerate*}\n"
      ],
      "text/markdown": [
       "1. 0.90646974847196\n",
       "2. 0.925990652853999\n",
       "3. 0.484099537891704\n",
       "4. 0.906937557846491\n",
       "5. 1.09141461262458\n",
       "6. 0.677613158788322\n",
       "7. 0.615263057610009\n",
       "8. 0.630594077352756\n",
       "9. 1.16915085203944\n",
       "10. 0.975697072786776\n",
       "11. 0.898499321324989\n",
       "12. 1.016672752096\n",
       "13. 0.985828266698705\n",
       "14. 0.91891591331436\n",
       "15. 0.527503331000823\n",
       "\n",
       "\n"
      ],
      "text/plain": [
       " [1] 0.9064697 0.9259907 0.4840995 0.9069376 1.0914146 0.6776132 0.6152631\n",
       " [8] 0.6305941 1.1691509 0.9756971 0.8984993 1.0166728 0.9858283 0.9189159\n",
       "[15] 0.5275033"
      ]
     },
     "metadata": {},
     "output_type": "display_data"
    }
   ],
   "source": [
    "results = c()\n",
    "for (x in dat5){\n",
    "    results = c(results, mean(x[x > median(x)]))\n",
    "}\n",
    "results"
   ]
  },
  {
   "cell_type": "code",
   "execution_count": 59,
   "metadata": {},
   "outputs": [
    {
     "data": {
      "text/html": [
       "<dl>\n",
       "\t<dt>$X3</dt>\n",
       "\t\t<dd>0.90646974847196</dd>\n",
       "\t<dt>$X4</dt>\n",
       "\t\t<dd>0.925990652853999</dd>\n",
       "\t<dt>$X6</dt>\n",
       "\t\t<dd>0.484099537891704</dd>\n",
       "\t<dt>$X7</dt>\n",
       "\t\t<dd>0.906937557846491</dd>\n",
       "\t<dt>$X8</dt>\n",
       "\t\t<dd>1.09141461262458</dd>\n",
       "\t<dt>$X9</dt>\n",
       "\t\t<dd>0.677613158788322</dd>\n",
       "</dl>\n"
      ],
      "text/latex": [
       "\\begin{description}\n",
       "\\item[\\$X3] 0.90646974847196\n",
       "\\item[\\$X4] 0.925990652853999\n",
       "\\item[\\$X6] 0.484099537891704\n",
       "\\item[\\$X7] 0.906937557846491\n",
       "\\item[\\$X8] 1.09141461262458\n",
       "\\item[\\$X9] 0.677613158788322\n",
       "\\end{description}\n"
      ],
      "text/markdown": [
       "$X3\n",
       ":   0.90646974847196\n",
       "$X4\n",
       ":   0.925990652853999\n",
       "$X6\n",
       ":   0.484099537891704\n",
       "$X7\n",
       ":   0.906937557846491\n",
       "$X8\n",
       ":   1.09141461262458\n",
       "$X9\n",
       ":   0.677613158788322\n",
       "\n",
       "\n"
      ],
      "text/plain": [
       "$X3\n",
       "[1] 0.9064697\n",
       "\n",
       "$X4\n",
       "[1] 0.9259907\n",
       "\n",
       "$X6\n",
       "[1] 0.4840995\n",
       "\n",
       "$X7\n",
       "[1] 0.9069376\n",
       "\n",
       "$X8\n",
       "[1] 1.091415\n",
       "\n",
       "$X9\n",
       "[1] 0.6776132\n"
      ]
     },
     "metadata": {},
     "output_type": "display_data"
    }
   ],
   "source": [
    "sol5 = map(map(dat5, function(x) keep(x, ~ . > median(x))), mean) # quantile(x)[3] is same as median(x)\n",
    "head(sol5)"
   ]
  },
  {
   "cell_type": "markdown",
   "metadata": {},
   "source": [
    "## Q2: Max and Argmax\n",
    "\n",
    "### 2.1\n",
    "\n",
    "Define the function `max_iter` that takes a vector and returns the maximum element using iteration/loops.\n",
    "\n",
    "Define the function `max_func` that does the same thing using `reduce`. Note: don't use the `max` function, instead define your own function that goes into the reduce."
   ]
  },
  {
   "cell_type": "code",
   "execution_count": 211,
   "metadata": {},
   "outputs": [],
   "source": [
    "max_iter = function(x) {\n",
    "    curr = x[1]\n",
    "    \n",
    "    for (i in 2:length(x)) {\n",
    "        if (x[i] > curr) {\n",
    "            curr = x[i]\n",
    "        }\n",
    "    }\n",
    "    curr\n",
    "}\n"
   ]
  },
  {
   "cell_type": "code",
   "execution_count": 212,
   "metadata": {
    "collapsed": true
   },
   "outputs": [],
   "source": [
    "reduce_max = function(curr, newval) {\n",
    "    if (newval > curr) {\n",
    "        return(newval)\n",
    "    } else {\n",
    "        return(curr)\n",
    "    }\n",
    "}\n",
    "\n",
    "max_func = function(x) {\n",
    "    reduce(x, reduce_max)\n",
    "}"
   ]
  },
  {
   "cell_type": "code",
   "execution_count": 213,
   "metadata": {},
   "outputs": [],
   "source": [
    "test = rnorm(100)\n",
    "stopifnot(max_iter(test) == max(test))\n",
    "stopifnot(max_func(test) == max(test))"
   ]
  },
  {
   "cell_type": "markdown",
   "metadata": {},
   "source": [
    "### 2.2\n",
    "\n",
    "Define the function `argmax_iter` that takes a vector and returns the index maximum element using iteration/loops. If there is a tie return the index of the first time the max appears. Hint: you may need to keep track of multiple things as you iterate.\n",
    "\n",
    "(Difficult) Define the function `argmax_func` that does the same thing using reduce. Hint: how can you keep track of multiple things through the reduce steps?\n"
   ]
  },
  {
   "cell_type": "code",
   "execution_count": 214,
   "metadata": {
    "collapsed": true
   },
   "outputs": [],
   "source": [
    "argmax_iter = function(x) {\n",
    "    curr_val = x[1]\n",
    "    curr_arg = 1\n",
    "    \n",
    "    for (i in 2:length(x)) {\n",
    "        if (x[i] > curr_val) {\n",
    "            curr_val = x[i]\n",
    "            curr_arg = i\n",
    "        }\n",
    "    }\n",
    "    curr_arg\n",
    "}"
   ]
  },
  {
   "cell_type": "code",
   "execution_count": 215,
   "metadata": {},
   "outputs": [],
   "source": [
    "reduce_argmax = function(curr, newval) {\n",
    "    if (newval > curr$val) {\n",
    "        return(list(val=newval, arg=curr$i+1, i=curr$i+1))\n",
    "    } else {\n",
    "        return(list(val=curr$val, arg=curr$arg, i=curr$i+1))\n",
    "    }\n",
    "}\n",
    "\n",
    "argmax_func = function(x) {\n",
    "    res = reduce(x, reduce_argmax, .init=list(val=-Inf, arg=0, i=0))\n",
    "    res$arg\n",
    "}"
   ]
  },
  {
   "cell_type": "code",
   "execution_count": 216,
   "metadata": {
    "collapsed": true
   },
   "outputs": [],
   "source": [
    "test = rnorm(100)\n",
    "stopifnot(argmax_iter(c(1, -3, 2, 6, 3)) == 4)\n",
    "stopifnot(argmax_iter(test) == which.max(test))\n",
    "stopifnot(argmax_func(c(1, -3, 2, 6, 3)) == 4)\n",
    "stopifnot(argmax_func(test) == which.max(test))"
   ]
  }
 ],
 "metadata": {
  "kernelspec": {
   "display_name": "R",
   "language": "R",
   "name": "ir"
  },
  "language_info": {
   "codemirror_mode": "r",
   "file_extension": ".r",
   "mimetype": "text/x-r-source",
   "name": "R",
   "pygments_lexer": "r",
   "version": "3.4.1"
  }
 },
 "nbformat": 4,
 "nbformat_minor": 2
}
